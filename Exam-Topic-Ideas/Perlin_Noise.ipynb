{
 "cells": [
  {
   "cell_type": "code",
   "execution_count": null,
   "id": "b67641c7-1892-4238-aa23-87359450ea7c",
   "metadata": {},
   "outputs": [],
   "source": [
    "%matplotlib inline"
   ]
  },
  {
   "cell_type": "code",
   "execution_count": null,
   "id": "dea6f9f2-0e08-4726-989d-6579c80789c3",
   "metadata": {},
   "outputs": [],
   "source": [
    "import random\n",
    "import winsound\n",
    "\n",
    "import matplotlib.pyplot as plt\n",
    "import noise\n",
    "import numpy as np\n",
    "from IPython.display import Audio\n",
    "from mpl_toolkits.mplot3d import axes3d\n",
    "from scipy.interpolate import make_interp_spline"
   ]
  },
  {
   "cell_type": "markdown",
   "id": "adf675c4-d28a-4639-bd44-8fb283bddac4",
   "metadata": {},
   "source": [
    "# Perlin Noise"
   ]
  },
  {
   "cell_type": "markdown",
   "id": "e2dc9912-835f-4c36-873b-d5e2a2818755",
   "metadata": {},
   "source": [
    "### 1. Goals"
   ]
  },
  {
   "cell_type": "markdown",
   "id": "9bf3a1d2-5250-47b3-853e-e9012cda496b",
   "metadata": {},
   "source": [
    "The point of this article is to understand what Perlin noise is. How it works? To see it in all dimensions. To hear how it would sound and to play around with it a little."
   ]
  },
  {
   "cell_type": "markdown",
   "id": "128da454-9203-4aa7-b3a8-1ddd6f500a98",
   "metadata": {},
   "source": [
    "### 2. Abstract "
   ]
  },
  {
   "cell_type": "markdown",
   "id": "4ff933f0-c605-40fa-972a-d50f1202cb56",
   "metadata": {},
   "source": [
    "Perlin noise is much easier to create from texturing and it’s size would be pretty small."
   ]
  },
  {
   "cell_type": "markdown",
   "id": "82ffde8d-f136-4fe3-9dd5-8242c6fdfa44",
   "metadata": {
    "tags": []
   },
   "source": [
    "### Table of Contents\n",
    "1. [Goals](#1.-Goals)\n",
    "2. [Abstract](#2.-Abstract)\n",
    "3. [Introduction](#3.-Introduction)\n",
    "    - [3.1. History of Perlin Noise](#3.1.-History-of-Perlin-Noise)\n",
    "    - [3.2. What is Perlin Noise](#3.2.-What-is-Perlin-Noise)\n",
    "    - [3.3. Use Cases](#3.3.-Use-Cases)\n",
    "4. [Perlin Noise 1D](#4.-Perlin-Noise-1D)\n",
    "5. [Algoritum explanation](#5.-Algoritum-explanation)\n",
    "6. [Perlin Noise 2D](#6.-Perlin-Noise-2D)\n",
    "7. [3D Perlin Noise](#7.-3D-Perlin-Noise)\n",
    "8. [Music generation](#8.-Music-generation)\n",
    "9. [Resources](#9.-Resources)"
   ]
  },
  {
   "cell_type": "markdown",
   "id": "dfae5ffe-dbe1-4cd7-97f3-276f6a7020b9",
   "metadata": {},
   "source": [
    "### 3. Introduction "
   ]
  },
  {
   "cell_type": "markdown",
   "id": "ab554b3c-83f5-4e19-982c-d1534637eef9",
   "metadata": {
    "tags": []
   },
   "source": [
    "#### 3.1. History of Perlin Noise"
   ]
  },
  {
   "cell_type": "markdown",
   "id": "bfb4db2e-49b9-4fd6-9172-e44527e22a7d",
   "metadata": {},
   "source": [
    "Ken Perlin developed the noise function while working on the original 'Tron' movie in the early 1980s. He used it to create procedural textures for computer-generated effects. In 1997, Perlin won an Academy Award in technical achievements for his work."
   ]
  },
  {
   "cell_type": "markdown",
   "id": "8e662029-2780-4649-94a8-770c5e3bd4a1",
   "metadata": {},
   "source": [
    "#### 3.2. What is Perlin Noise"
   ]
  },
  {
   "cell_type": "markdown",
   "id": "f026ab0e-7a49-434f-a7d2-8342dad04736",
   "metadata": {},
   "source": [
    "For the development of the Perlin Noise, Ken Perlin used a technique to produce natural appearing textures on computer-generated surfaces for motion picture visual effects. The development of Perlin Noise has allowed computer graphic artists to better represent the complexity of natural phenomena in visual effects for the motion picture industry."
   ]
  },
  {
   "cell_type": "markdown",
   "id": "9c435bfd-f3ad-4a05-8723-f6cc49705bd5",
   "metadata": {},
   "source": [
    "Perlin noise can be used to generate various effects with natural qualities, such as clouds, landscapes, and patterned textures like marble. Perlin noise has a more organic appearance because it produces a naturally ordered (“smooth”) sequence of pseudo-random numbers."
   ]
  },
  {
   "cell_type": "markdown",
   "id": "2ed506fe-955d-409a-8b68-5634f86cbec3",
   "metadata": {},
   "source": [
    "This is what Perlin noise looks like. We can see how the points are very close to each other and when we connect them it becomes a smooth curve."
   ]
  },
  {
   "attachments": {
    "4c3db7cc-744e-4a40-b83f-e9a119b0ac3f.png": {
     "image/png": "[encoded data removed]"
    }
   },
   "cell_type": "markdown",
   "id": "c4b2b492-66c5-4afb-a707-f06eec59f6b7",
   "metadata": {},
   "source": [
    "[Source](attachment:4c3db7cc-744e-4a40-b83f-e9a119b0ac3f.png)![](attachment:4c3db7cc-744e-4a40-b83f-e9a119b0ac3f.png)"
   ]
  },
  {
   "cell_type": "markdown",
   "id": "82b99f84-6fc5-49bf-8fdd-ee79ffdcf826",
   "metadata": {},
   "source": [
    "This is Random noise."
   ]
  },
  {
   "cell_type": "markdown",
   "id": "0332daca-2f66-455a-847c-32c81494d626",
   "metadata": {},
   "source": [
    "[Source](http://2.bp.blogspot.com/_q016kExGrVs/S-M1mnjKSWI/AAAAAAAAAW0/o2blGBGjYvQ/s280/JTS_random_points_in_grid.png)![](http://2.bp.blogspot.com/_q016kExGrVs/S-M1mnjKSWI/AAAAAAAAAW0/o2blGBGjYvQ/s280/JTS_random_points_in_grid.png)"
   ]
  },
  {
   "cell_type": "markdown",
   "id": "eff323e6-232c-4fe2-9bb7-6807c52481a4",
   "metadata": {},
   "source": [
    "#### 3.3. Use Cases"
   ]
  },
  {
   "cell_type": "markdown",
   "id": "0eaffcb0-d957-49d7-b099-c0ae469dfefb",
   "metadata": {},
   "source": [
    "                             \n",
    "|Illusion of handwritten lines(1D)|Generation textures(2D)|Field generation(3D)|\n",
    "|:---------------------------------------:|:-------------:|:------:|\n",
    "| __Normal square__ ![](https://img.favpng.com/22/23/25/quadrilateral-regular-polygon-square-parallelogram-png-favpng-zLWLJ0LRn3TjWxuR0sBZ9m1Vs.jpg) | __Map generation__ ![](https://i.stack.imgur.com/T0o4T.png)  | __Terrain generation__![](https://julienharbulot.com/images/procedural-terrain-generation/ridged-noise.jpg) |\n",
    "| __Handwritten square__ ![](https://jestermax.files.wordpress.com/2012/08/handdrawn.png) | __Ocean generation__ ![](https://i.stack.imgur.com/jnll6.png)   | __Planetary ocean__ ![](http://i.imgur.com/YaJnaJS.jpg) |\n"
   ]
  },
  {
   "cell_type": "markdown",
   "id": "ab61c653-d759-4b5f-ae7b-9190e0d7ec31",
   "metadata": {},
   "source": [
    "We will best see the difference between 1D white noise curve and 1D Perlin noise curve."
   ]
  },
  {
   "cell_type": "markdown",
   "id": "b0397e27-4028-4c60-ac4f-d20d0ca08f2c",
   "metadata": {},
   "source": [
    "### 4. Perlin Noise 1D "
   ]
  },
  {
   "cell_type": "code",
   "execution_count": null,
   "id": "b6536871-0d9b-47ad-8c87-e0349d21acda",
   "metadata": {},
   "outputs": [],
   "source": [
    "def WhiteNoise(size):\n",
    "    # Above all I want to make White noise with random points.\n",
    "    x = np.random.random(size)\n",
    "\n",
    "    plt.plot(x)\n",
    "\n",
    "    plt.xlabel(\"Sample Values\")\n",
    "    plt.ylabel(\"Samples\")\n",
    "    plt.title(\"White Noise\")\n",
    "\n",
    "    plt.show()\n",
    "    return x\n",
    "\n",
    "\n",
    "white_noise = WhiteNoise(450)"
   ]
  },
  {
   "cell_type": "code",
   "execution_count": null,
   "id": "b41c58ff-9ce7-4797-8c3f-cbfd2ed6cd1f",
   "metadata": {},
   "outputs": [],
   "source": [
    "def perlin_noise_1d(n_points, curve=float, lenght=int):\n",
    "    x = np.array([x for x in range(n_points)])\n",
    "    y = np.random.choice(curve, n_points)\n",
    "\n",
    "    X_Y_Spline = make_interp_spline(\n",
    "        x, y\n",
    "    )  # using linear interpolation for generation 1D curve\n",
    "    X_ = np.linspace(x.min(), x.max(), lenght)\n",
    "    Y_ = X_Y_Spline(X_)\n",
    "\n",
    "    plt.plot(Y_)\n",
    "    plt.title(\"Perlin noise\")\n",
    "    plt.xlabel(\"X\")\n",
    "    plt.ylabel(\"Y\")\n",
    "    plt.show()\n",
    "    return Y_\n",
    "\n",
    "\n",
    "perlin_noise = perlin_noise_1d(450, 22, 450)"
   ]
  },
  {
   "cell_type": "markdown",
   "id": "20835b32-d9c7-4a9c-ace3-3afff126bbd8",
   "metadata": {},
   "source": [
    "[Sourse](https://www.scratchapixel.com/images/upload/interpolation/lininterpfig.png)![](https://www.scratchapixel.com/images/upload/interpolation/lininterpfig.png)$$a(1−t)+bt$$"
   ]
  },
  {
   "cell_type": "code",
   "execution_count": null,
   "id": "9a0f9979-3fde-4195-986c-cad239a16a99",
   "metadata": {},
   "outputs": [],
   "source": [
    "white_noise = WhiteNoise(200)\n",
    "perlin_noise = perlin_noise_1d(200, 22, 200)"
   ]
  },
  {
   "cell_type": "markdown",
   "id": "259aeddd-4aa6-4a7b-aa55-0636ef6f18a2",
   "metadata": {},
   "source": [
    "Hmm, I can't see difference. Therewhite_noise = WhiteNoise(200)\n",
    "perlin_noise=perlin_noise_1d(200,22)fore lets try with a lower point and see the results."
   ]
  },
  {
   "cell_type": "code",
   "execution_count": null,
   "id": "30fcae45-2e7c-4280-be1f-511fec9f03bd",
   "metadata": {},
   "outputs": [],
   "source": [
    "white_noise = WhiteNoise(25)\n",
    "perlin_noise = perlin_noise_1d(25, 22, 250)"
   ]
  },
  {
   "cell_type": "markdown",
   "id": "dbc7d581-5b2f-475d-9aee-c9fd3053a7ad",
   "metadata": {},
   "source": [
    "Okay, okay, somehow now i can see the difference. Let's keep going."
   ]
  },
  {
   "cell_type": "code",
   "execution_count": null,
   "id": "77caf0d8-346b-454a-9678-6d0f5c636a9e",
   "metadata": {},
   "outputs": [],
   "source": [
    "white_noise = WhiteNoise(5)\n",
    "perlin_noise = perlin_noise_1d(5, 20, 100)"
   ]
  },
  {
   "cell_type": "markdown",
   "id": "f8843c64-ae55-4286-b887-43525747a2fb",
   "metadata": {},
   "source": [
    "Opinion for 1D graph: Perlin noise is smoother than White noise curve."
   ]
  },
  {
   "cell_type": "markdown",
   "id": "05bdfc13-18db-4cca-b035-8702ed1976be",
   "metadata": {},
   "source": [
    "Okay, we saw 1D. Let's contunue with 2D to see whether we will see a difference."
   ]
  },
  {
   "cell_type": "markdown",
   "id": "e7d7b259-10ec-484b-be4a-ffbf72bad0dc",
   "metadata": {},
   "source": [
    "But first we need to explain how the algorithm works."
   ]
  },
  {
   "cell_type": "markdown",
   "id": "3c75003d-75e6-4613-a265-73201ddbf28e",
   "metadata": {},
   "source": [
    "### 5. Algoritum explanation "
   ]
  },
  {
   "cell_type": "markdown",
   "id": "e748ddf5-4b07-4b58-862b-c3d5c258c114",
   "metadata": {},
   "source": [
    "Well, how to make 2D Perlin Noise?"
   ]
  },
  {
   "cell_type": "markdown",
   "id": "6f3355c1-b240-46a5-8cf0-63fc81a8dd1b",
   "metadata": {},
   "source": [
    "We make a grid.    "
   ]
  },
  {
   "cell_type": "code",
   "execution_count": null,
   "id": "fa5e6530-24a1-4b49-a00e-a0e86d08f3b8",
   "metadata": {},
   "outputs": [],
   "source": [
    "plt.grid()  # using for showing a grid only."
   ]
  },
  {
   "cell_type": "markdown",
   "id": "dbbe860e-ad44-40be-af6f-840891764288",
   "metadata": {},
   "source": [
    "There must be a vector on this grid at each vertex."
   ]
  },
  {
   "cell_type": "markdown",
   "id": "c63d9355-d2da-4cd4-a5e7-0d9e89692063",
   "metadata": {},
   "source": [
    "We will us 8 vectors in 3D and 4 in the 2D case."
   ]
  },
  {
   "cell_type": "markdown",
   "id": "e9831989-5e9c-4e9e-9bde-4f7f83dac456",
   "metadata": {},
   "source": [
    "![](https://i.imgur.com/08bETP1.png)[Source](https://i.imgur.com/08bETP1.png)"
   ]
  },
  {
   "cell_type": "markdown",
   "id": "5c116313-780c-48a9-a83f-83f7768911a6",
   "metadata": {},
   "source": [
    "```python\n",
    "\"generation on table\"\n",
    "np.random.seed(seed)\n",
    "p = np.arange(256, dtype=int)\n",
    "np.random.shuffle(p)\n",
    "p = np.stack([p, p]).flatten()\n",
    "```"
   ]
  },
  {
   "cell_type": "markdown",
   "id": "e69489d5-0ed6-403f-a366-8885bf80c5b8",
   "metadata": {},
   "source": [
    "We use [Dot Product](https://en.wikipedia.org/wiki/Dot_product). Therefore, two vectors begin to emerge from each angle. Why? Because a Dot product is a product of the length of the two vectors multiplied by the cosine of the angle between them."
   ]
  },
  {
   "cell_type": "markdown",
   "id": "20273200-dcce-4604-b397-2a16eee0abd8",
   "metadata": {},
   "source": [
    "$${\\displaystyle \\mathbf {\\color {red}a} \\cdot \\mathbf {\\color {blue}b} =\\sum _{i=1}^{n}{\\color {red}a}_{i}{\\color {blue}b}_{i}={\\color {red}a}_{1}{\\color {blue}b}_{1}+{\\color {red}a}_{2}{\\color {blue}b}_{2}+\\cdots +{\\color {red}a}_{n}{\\color {blue}b}_{n}}$$"
   ]
  },
  {
   "cell_type": "markdown",
   "id": "0793596e-ad49-4895-8aad-75fc0fd16346",
   "metadata": {},
   "source": [
    "![](https://i.imgur.com/KpjSxAV.png)[Source](https://i.imgur.com/KpjSxAV.png)"
   ]
  },
  {
   "cell_type": "markdown",
   "id": "8fdcaafd-7eb0-40d8-8cda-bd84e7447ab1",
   "metadata": {},
   "source": [
    "We choose a point to a point on the grid and we multiply by the cosine of the angle between these two vectors. This is the scalar distance."
   ]
  },
  {
   "cell_type": "code",
   "execution_count": null,
   "id": "b64b9700-eed2-4ec3-89e5-9c234be274e7",
   "metadata": {},
   "outputs": [],
   "source": [
    "def gradient(h, x, y):\n",
    "    \"grad converts h to the right gradient vector and return the dot product with (x,y)\"\n",
    "    vectors = np.array([[0, 1], [0, -1], [1, 0], [-1, 0]])\n",
    "    g = vectors[h % 4]\n",
    "    return g[:, :, 0] * x + g[:, :, 1] * y"
   ]
  },
  {
   "cell_type": "markdown",
   "id": "ea48d93d-cc6d-42ca-b49a-ea1195cd05af",
   "metadata": {},
   "source": [
    "This way we will understand how close the two vectors are to each other. When they are farther apart, the cosine becomes smaller. When we have a right angle it becomes zero and if they are in opposite directions the cosine is equal to -1."
   ]
  },
  {
   "cell_type": "markdown",
   "id": "4a87d008-493f-4927-816b-de9ff2c76e59",
   "metadata": {},
   "source": [
    "```python    \n",
    "    \"coordinates of the top-left\"\n",
    "    xi, yi = x.astype(int), y.astype(int)\n",
    "```"
   ]
  },
  {
   "cell_type": "markdown",
   "id": "75775d95-d000-4c59-b406-343433a2abd4",
   "metadata": {},
   "source": [
    "Now every point has a dot product that needs to be considered in some way. And here comes the [Bilinear Interpolation](https://www.scratchapixel.com/lessons/mathematics-physics-for-computer-graphics/interpolation/introduction)(from 0 to 1), but there is a problem with it and that is because the Bilinear Interpolation works only for two points. Therefore, it should be done for all couples."
   ]
  },
  {
   "cell_type": "code",
   "execution_count": null,
   "id": "81d08fd4-1cbe-46a4-a560-1aafd87bd7f1",
   "metadata": {},
   "outputs": [],
   "source": [
    "def lerp(a, b, x):\n",
    "    \"Bilinear Interpolation\"\n",
    "    return a + x * (b - a)"
   ]
  },
  {
   "cell_type": "markdown",
   "id": "e79154e3-d413-4943-9662-951a8c2a4e55",
   "metadata": {},
   "source": [
    "Using fade function"
   ]
  },
  {
   "cell_type": "markdown",
   "id": "3dffb7fc-1e0c-4c79-84bd-188849f0892e",
   "metadata": {},
   "source": [
    "[Source](https://codelirium.com/public/images/perlin-noise/perlin-fade-function.png)![](https://codelirium.com/public/images/perlin-noise/perlin-fade-function.png)__The fade function__ $$ψ(t) = 6t^5 − 15t^4 + 10t^3$$"
   ]
  },
  {
   "cell_type": "code",
   "execution_count": null,
   "id": "8ae7889f-fcee-436c-b28b-29d07d678a93",
   "metadata": {},
   "outputs": [],
   "source": [
    "def fade(t):\n",
    "    return 6 * t**5 - 15 * t**4 + 10 * t**3"
   ]
  },
  {
   "cell_type": "markdown",
   "id": "7f558dd2-3052-4775-84b7-4afae270a040",
   "metadata": {},
   "source": [
    "[Source](https://i.imgur.com/507Qens.png)![](https://i.imgur.com/507Qens.png)"
   ]
  },
  {
   "cell_type": "code",
   "execution_count": null,
   "id": "f727b915-a30d-4b61-a5b6-12b32b3f9643",
   "metadata": {},
   "outputs": [],
   "source": [
    "# finall result of making a 2D perlin noise function\n",
    "def perlin(x, y, seed=0):\n",
    "    # permutation table\n",
    "    np.random.seed(seed)\n",
    "    p = np.arange(256, dtype=int)\n",
    "    np.random.shuffle(p)\n",
    "    p = np.stack([p, p]).flatten()\n",
    "    # coordinates of the top-left\n",
    "    xi, yi = x.astype(int), y.astype(int)\n",
    "    # internal coordinates\n",
    "    xf, yf = x - xi, y - yi\n",
    "    # fade factors\n",
    "    u, v = fade(xf), fade(yf)\n",
    "    # noise components\n",
    "    n00 = gradient(p[p[xi] + yi], xf, yf)\n",
    "    n01 = gradient(p[p[xi] + yi + 1], xf, yf - 1)\n",
    "    n11 = gradient(p[p[xi + 1] + yi + 1], xf - 1, yf - 1)\n",
    "    n10 = gradient(p[p[xi + 1] + yi], xf - 1, yf)\n",
    "    # combine noises\n",
    "    x1 = lerp(n00, n10, u)\n",
    "    x2 = lerp(n01, n11, u)\n",
    "    return lerp(x1, x2, v)"
   ]
  },
  {
   "cell_type": "markdown",
   "id": "2923d4a2-a4d1-488e-bf79-590ebcc2c805",
   "metadata": {},
   "source": [
    "### 6. Perlin Noise 2D"
   ]
  },
  {
   "cell_type": "markdown",
   "id": "ba00e4fa-3647-433a-8ec0-c25ed0f542b7",
   "metadata": {},
   "source": [
    "2d : using 1d to form an image : We use the 1d samples to create a 2d image"
   ]
  },
  {
   "cell_type": "markdown",
   "id": "9d788628-401a-45fe-97f3-b4f37b6f73db",
   "metadata": {},
   "source": [
    "Here's how a 2D White noise image would look like: "
   ]
  },
  {
   "cell_type": "code",
   "execution_count": null,
   "id": "36f74012-eabb-4882-a8f7-27e0af5cbbfe",
   "metadata": {},
   "outputs": [],
   "source": [
    "plt.imshow(np.random.random((25, 25)))\n",
    "plt.title(\"White Noise\")\n",
    "plt.xlabel(\"X\")\n",
    "plt.ylabel(\"Y\")\n",
    "plt.colorbar()\n",
    "plt.show()"
   ]
  },
  {
   "cell_type": "markdown",
   "id": "6ff81f94-edd7-42f0-8d45-b8edc5754702",
   "metadata": {},
   "source": [
    "Here's how a 2D Perlin noise image would look like:"
   ]
  },
  {
   "cell_type": "code",
   "execution_count": null,
   "id": "0a584717-b25e-4ae6-a351-24b64cb742e1",
   "metadata": {},
   "outputs": [],
   "source": [
    "lin = np.linspace(0, 5, 256, endpoint=False)\n",
    "x, y = np.meshgrid(lin, lin)\n",
    "\n",
    "plt.imshow(perlin(x, y, seed=5))\n",
    "plt.title(\"Perlin noise\")\n",
    "plt.xlabel(\"X\")\n",
    "plt.ylabel(\"Y\")\n",
    "plt.colorbar()\n",
    "plt.show()"
   ]
  },
  {
   "cell_type": "markdown",
   "id": "348895fa-01f9-4eae-913b-85a07231ef0f",
   "metadata": {},
   "source": [
    "Again, there is a very big difference.\n",
    "\n",
    "\n",
    "Let's now change the diamater of the images."
   ]
  },
  {
   "cell_type": "code",
   "execution_count": null,
   "id": "02b07aa9-361c-478f-bc75-0cc7ffcebd62",
   "metadata": {},
   "outputs": [],
   "source": [
    "plt.imshow(np.random.random((256, 256)))\n",
    "plt.title(\"White Noise\")\n",
    "plt.xlabel(\"X\")\n",
    "plt.ylabel(\"Y\")\n",
    "plt.colorbar()\n",
    "plt.show()"
   ]
  },
  {
   "cell_type": "code",
   "execution_count": null,
   "id": "4e99ff1e-7a0f-433e-bba1-1c66f9a2a509",
   "metadata": {},
   "outputs": [],
   "source": [
    "lin = np.linspace(0, 25, 256, endpoint=False)\n",
    "x, y = np.meshgrid(lin, lin)\n",
    "\n",
    "plt.imshow(perlin(x, y, seed=5), plt.cm.get_cmap())\n",
    "plt.title(\"Perlin noise\")\n",
    "plt.xlabel(\"X\")\n",
    "plt.ylabel(\"Y\")\n",
    "plt.colorbar()\n",
    "plt.show()"
   ]
  },
  {
   "cell_type": "markdown",
   "id": "9d5d2414-3163-49cd-95b6-5159811fa440",
   "metadata": {},
   "source": [
    "Until now we tried with the default color of \"plt.imshow()\"\n",
    "\n",
    "What would it look like if i put some color or make the colors black and white?"
   ]
  },
  {
   "cell_type": "code",
   "execution_count": null,
   "id": "f28bfd12-3224-40eb-a69c-c87f7394f7c9",
   "metadata": {},
   "outputs": [],
   "source": [
    "def put_colors_to_imshow(number_of_color):\n",
    "    \"\"\"\n",
    "    What happened now? I looked for all possible colors for 'plt.imshow()' with a little processing we removed those that are repeated and converted them into a list.\n",
    "    \"\"\"\n",
    "    colors = \"'Accent', 'Accent_r', 'Blues', 'Blues_r', 'BrBG', 'BrBG_r', 'BuGn', 'BuGn_r', 'BuPu', 'BuPu_r', 'CMRmap', 'CMRmap_r', 'Dark2', 'Dark2_r', 'GnBu', 'GnBu_r', 'Greens', 'Greens_r', 'Greys', 'Greys_r', 'OrRd', 'OrRd_r', 'Oranges', 'Oranges_r', 'PRGn', 'PRGn_r', 'Paired', 'Paired_r', 'Pastel1', 'Pastel1_r', 'Pastel2', 'Pastel2_r', 'PiYG', 'PiYG_r', 'PuBu', 'PuBuGn', 'PuBuGn_r', 'PuBu_r', 'PuOr', 'PuOr_r', 'PuRd', 'PuRd_r', 'Purples', 'Purples_r', 'RdBu', 'RdBu_r', 'RdGy', 'RdGy_r', 'RdPu', 'RdPu_r', 'RdYlBu', 'RdYlBu_r', 'RdYlGn', 'RdYlGn_r', 'Reds', 'Reds_r', 'Set1', 'Set1_r', 'Set2', 'Set2_r', 'Set3', 'Set3_r', 'Spectral', 'Spectral_r', 'Wistia', 'Wistia_r', 'YlGn', 'YlGnBu', 'YlGnBu_r', 'YlGn_r', 'YlOrBr', 'YlOrBr_r', 'YlOrRd', 'YlOrRd_r', 'afmhot', 'afmhot_r', 'autumn', 'autumn_r', 'binary', 'binary_r', 'bone', 'bone_r', 'brg', 'brg_r', 'bwr', 'bwr_r', 'cividis', 'cividis_r', 'cool', 'cool_r', 'coolwarm', 'coolwarm_r', 'copper', 'copper_r', 'cubehelix', 'cubehelix_r', 'flag', 'flag_r', 'gist_earth', 'gist_earth_r', 'gist_gray', 'gist_gray_r', 'gist_heat', 'gist_heat_r', 'gist_ncar', 'gist_ncar_r', 'gist_rainbow', 'gist_rainbow_r', 'gist_stern', 'gist_stern_r', 'gist_yarg', 'gist_yarg_r', 'gnuplot', 'gnuplot2', 'gnuplot2_r', 'gnuplot_r', 'gray', 'gray_r', 'hot', 'hot_r', 'hsv', 'hsv_r', 'inferno', 'inferno_r', 'jet', 'jet_r', 'magma', 'magma_r', 'nipy_spectral', 'nipy_spectral_r', 'ocean', 'ocean_r', 'pink', 'pink_r', 'plasma', 'plasma_r', 'prism', 'prism_r', 'rainbow', 'rainbow_r', 'seismic', 'seismic_r', 'spring', 'spring_r', 'summer', 'summer_r', 'tab10', 'tab10_r', 'tab20', 'tab20_r', 'tab20b', 'tab20b_r', 'tab20c', 'tab20c_r', 'terrain', 'terrain_r', 'turbo', 'turbo_r', 'twilight', 'twilight_r', 'twilight_shifted', 'twilight_shifted_r', 'viridis', 'viridis_r', 'winter', 'winter_r'\"\n",
    "    colors_to_list = colors.split(\", \")\n",
    "    finall_colors = []\n",
    "    for color in colors_to_list:\n",
    "        finall_colors.append(color[1:-1])\n",
    "    return finall_colors[number_of_color]\n",
    "    # length of all colors are 166(with processing)\n",
    "\n",
    "\n",
    "print(f\"Choose integer number between 0 and 165: \")\n",
    "color = put_colors_to_imshow(int(input()))"
   ]
  },
  {
   "cell_type": "code",
   "execution_count": null,
   "id": "84f6b917-4fe0-445c-9324-00fdb513707d",
   "metadata": {},
   "outputs": [],
   "source": [
    "lin = np.linspace(0, 25, 256, endpoint=False)\n",
    "x, y = np.meshgrid(lin, lin)\n",
    "\n",
    "plt.imshow(perlin(x, y, seed=5), plt.cm.get_cmap(color))\n",
    "plt.title(\"Perlin noise\")\n",
    "plt.xlabel(\"X\")\n",
    "plt.ylabel(\"Y\")\n",
    "plt.colorbar()\n",
    "plt.show()"
   ]
  },
  {
   "cell_type": "markdown",
   "id": "1207cd99-820f-452e-97f2-689cb49b503d",
   "metadata": {},
   "source": [
    "Wow! I didn't expect that. Looks fascinating."
   ]
  },
  {
   "cell_type": "markdown",
   "id": "bec54eeb-b78c-44db-83ed-d821585bedd2",
   "metadata": {},
   "source": [
    "__I decided to crop a part of the image and move it around. I found out that no matter how much I moved the part taken from the White noise image, there was no difference, and as far as the Perlin noise was concerned, it was as if it was out of place and it was obvious that there was something wrong with the picture.__"
   ]
  },
  {
   "cell_type": "markdown",
   "id": "f18dca0e-b442-4e2e-a216-60bcabd9f00e",
   "metadata": {},
   "source": [
    "These are cropped and re-positioned parts from each image using these generations of White noise and Perlin noise."
   ]
  },
  {
   "cell_type": "markdown",
   "id": "8d88223e-3ddc-4f9b-824e-4d20bc82ea38",
   "metadata": {},
   "source": [
    "![](https://i.imgur.com/3EG2dhS.png)"
   ]
  },
  {
   "cell_type": "markdown",
   "id": "64042cca-6eb9-4a0e-bb19-0f1df8a66ef4",
   "metadata": {},
   "source": [
    "![](https://i.imgur.com/bGeM5Uh.png)"
   ]
  },
  {
   "cell_type": "markdown",
   "id": "4c2bddaa-9a16-464e-b8b7-a85bf01e2804",
   "metadata": {},
   "source": [
    "The conclusion is that not only does the Perlin noise make things smoother but it also and lines up each piece of itself logically."
   ]
  },
  {
   "cell_type": "markdown",
   "id": "0726a859-fc7a-497a-bf98-805c3fb7cd6a",
   "metadata": {},
   "source": [
    "### 7. 3D Perlin Noise"
   ]
  },
  {
   "cell_type": "code",
   "execution_count": null,
   "id": "a02d0d9f-23e2-4b02-8b17-260f2b652e86",
   "metadata": {},
   "outputs": [],
   "source": [
    "\"We must set the parameters of the 3d Perlin noise.\"\n",
    "shape = (50, 50)\n",
    "scale = 100.0\n",
    "octaves = 6\n",
    "persistence = 0.5\n",
    "lacunarity = 2.0"
   ]
  },
  {
   "cell_type": "code",
   "execution_count": null,
   "id": "e8b50883-3f53-4825-b692-095b23ba2de9",
   "metadata": {},
   "outputs": [],
   "source": [
    "\"We create the world through a ‘NumPy’ array and we pass it through two ‘for’ cycles and after that we set the parameters for the library 'noise'.\"\n",
    "world = np.zeros(shape)\n",
    "for i in range(shape[0]):\n",
    "    for j in range(shape[1]):\n",
    "        world[i][j] = noise.pnoise2(\n",
    "            i / scale,\n",
    "            j / scale,\n",
    "            octaves=octaves,\n",
    "            persistence=persistence,\n",
    "            lacunarity=lacunarity,\n",
    "            repeatx=1024,\n",
    "            repeaty=1024,\n",
    "            base=42,\n",
    "        )\n",
    "        # The noise package contains multiple algorithms inside it for generating different types of noise."
   ]
  },
  {
   "cell_type": "code",
   "execution_count": null,
   "id": "eb906c62-b941-4d71-9b70-ec840ba0469f",
   "metadata": {},
   "outputs": [],
   "source": [
    "\"\"\"\n",
    "We have now initialised our 2 dimensional array with all the values inside for our terrain\n",
    "Let’s see the results first in 2D when we use 'plt.imshow()'\n",
    "\"\"\"\n",
    "plt.imshow(world, cmap=\"terrain\")\n",
    "\n",
    "plt.xlabel(\"X\")\n",
    "plt.ylabel(\"Y\")\n",
    "\n",
    "plt.show()\n",
    "\n",
    "plt.imshow(world, cmap=\"ocean\")\n",
    "\n",
    "plt.xlabel(\"X\")\n",
    "plt.ylabel(\"Y\")\n",
    "\n",
    "plt.show()"
   ]
  },
  {
   "cell_type": "markdown",
   "id": "0f6101ae-4a9f-48f5-bb49-d2fe7cff72b5",
   "metadata": {},
   "source": [
    "They look interesting and really remind of a terrain and an ocean. We use 2D image to create a 3d image. Let’s now take a look at how it would like in 3rd Dimension, but for that we will need 2 more arrays. Which will contain the x-y co-ordinates of our world."
   ]
  },
  {
   "cell_type": "code",
   "execution_count": null,
   "id": "d7f5773b-0a5e-4106-bd84-5b4a47e4d966",
   "metadata": {},
   "outputs": [],
   "source": [
    "lin_x = np.linspace(0, 1, shape[0], endpoint=False)\n",
    "lin_y = np.linspace(0, 1, shape[1], endpoint=False)\n",
    "x, y = np.meshgrid(lin_x, lin_y)"
   ]
  },
  {
   "cell_type": "code",
   "execution_count": null,
   "id": "4fb8cf61-7879-4426-988c-88ec2ddf684e",
   "metadata": {},
   "outputs": [],
   "source": [
    "fig = plt.figure()\n",
    "ax = fig.add_subplot(111, projection=\"3d\")\n",
    "ax.plot_surface(x, y, world, cmap=\"terrain\")  # plotting in 3 dimensions\n",
    "plt.xlabel(\"X\")\n",
    "plt.ylabel(\"Y\")\n",
    "plt.title(\"3D Terrain\")\n",
    "plt.show()\n",
    "\n",
    "fig = plt.figure()\n",
    "ax = fig.add_subplot(111, projection=\"3d\")\n",
    "ax.plot_surface(x, y, world, cmap=\"ocean\")  # plotting in 3 dimensions\n",
    "plt.xlabel(\"X\")\n",
    "plt.ylabel(\"Y\")\n",
    "plt.title(\"3D Ocean\")\n",
    "plt.show()"
   ]
  },
  {
   "cell_type": "markdown",
   "id": "6e724a47-ddd7-4aee-a8a5-cf107d26acff",
   "metadata": {},
   "source": [
    "We can also rotate the terrain to view the subject from all dimensions."
   ]
  },
  {
   "cell_type": "code",
   "execution_count": null,
   "id": "2e2b11a9-d533-4f21-bfd2-08a63bf25aab",
   "metadata": {},
   "outputs": [],
   "source": [
    "fig = plt.figure()\n",
    "ax = fig.add_subplot(111, projection=\"3d\")\n",
    "ax.plot_surface(x, y, world, cmap=\"terrain\")\n",
    "ax.view_init(azim=15)\n",
    "plt.xlabel(\"X\")\n",
    "plt.ylabel(\"Y\")\n",
    "plt.title(\"3D Terrain +15°\")\n",
    "plt.show()\n",
    "\n",
    "fig = plt.figure()\n",
    "ax = fig.add_subplot(111, projection=\"3d\")\n",
    "ax.plot_surface(x, y, world, cmap=\"ocean\")\n",
    "ax.view_init(azim=15)\n",
    "plt.xlabel(\"X\")\n",
    "plt.ylabel(\"Y\")\n",
    "plt.title(\"3D Ocean +15°\")\n",
    "plt.show()"
   ]
  },
  {
   "cell_type": "code",
   "execution_count": null,
   "id": "a0b6e6cc-fe93-44ec-8730-0d5ce7a5864c",
   "metadata": {},
   "outputs": [],
   "source": [
    "fig = plt.figure()\n",
    "ax = fig.add_subplot(111, projection=\"3d\")\n",
    "ax.plot_surface(x, y, world, cmap=\"terrain\")\n",
    "ax.view_init(azim=30)\n",
    "plt.xlabel(\"X\")\n",
    "plt.ylabel(\"Y\")\n",
    "plt.title(\"3D Terrain +30°\")\n",
    "plt.show()\n",
    "\n",
    "fig = plt.figure()\n",
    "ax = fig.add_subplot(111, projection=\"3d\")\n",
    "ax.plot_surface(x, y, world, cmap=\"ocean\")\n",
    "ax.view_init(azim=30)\n",
    "plt.xlabel(\"X\")\n",
    "plt.ylabel(\"Y\")\n",
    "plt.title(\"3D Ocean +30°\")\n",
    "plt.show()"
   ]
  },
  {
   "cell_type": "code",
   "execution_count": null,
   "id": "7d702323-eaa5-4e5d-9871-380074c65171",
   "metadata": {},
   "outputs": [],
   "source": [
    "fig = plt.figure()\n",
    "ax = fig.add_subplot(111, projection=\"3d\")\n",
    "ax.plot_surface(x, y, world, cmap=\"terrain\")\n",
    "ax.view_init(azim=60)\n",
    "plt.xlabel(\"X\")\n",
    "plt.ylabel(\"Y\")\n",
    "plt.title(\"3D Terrain +60°\")\n",
    "plt.show()\n",
    "\n",
    "fig = plt.figure()\n",
    "ax = fig.add_subplot(111, projection=\"3d\")\n",
    "ax.plot_surface(x, y, world, cmap=\"ocean\")\n",
    "ax.view_init(azim=60)\n",
    "plt.xlabel(\"X\")\n",
    "plt.ylabel(\"Y\")\n",
    "plt.title(\"3D Ocean +60°\")\n",
    "plt.show()"
   ]
  },
  {
   "cell_type": "code",
   "execution_count": null,
   "id": "3cb842b2-e4b6-4580-a443-4191e0cca947",
   "metadata": {},
   "outputs": [],
   "source": [
    "fig = plt.figure()\n",
    "ax = fig.add_subplot(111, projection=\"3d\")\n",
    "ax.plot_surface(x, y, world, cmap=\"terrain\")\n",
    "ax.view_init(azim=90)\n",
    "plt.xlabel(\"X\")\n",
    "plt.ylabel(\"Y\")\n",
    "plt.title(\"3D Terrain +90°\")\n",
    "plt.show()\n",
    "\n",
    "fig = plt.figure()\n",
    "ax = fig.add_subplot(111, projection=\"3d\")\n",
    "ax.plot_surface(x, y, world, cmap=\"ocean\")\n",
    "ax.view_init(azim=90)\n",
    "plt.xlabel(\"X\")\n",
    "plt.ylabel(\"Y\")\n",
    "plt.title(\"3D Ocean +90°\")\n",
    "plt.show()"
   ]
  },
  {
   "cell_type": "code",
   "execution_count": null,
   "id": "a1f2ec37-7d61-415f-8bf3-f614dcee1780",
   "metadata": {},
   "outputs": [],
   "source": [
    "fig = plt.figure()\n",
    "ax = fig.add_subplot(111, projection=\"3d\")\n",
    "ax.plot_surface(x, y, world, cmap=\"terrain\")\n",
    "ax.view_init(azim=180)\n",
    "plt.xlabel(\"X\")\n",
    "plt.ylabel(\"Y\")\n",
    "plt.title(\"3D Terrain +180°\")\n",
    "plt.show()\n",
    "\n",
    "fig = plt.figure()\n",
    "ax = fig.add_subplot(111, projection=\"3d\")\n",
    "ax.plot_surface(x, y, world, cmap=\"ocean\")\n",
    "ax.view_init(azim=180)\n",
    "plt.xlabel(\"X\")\n",
    "plt.ylabel(\"Y\")\n",
    "plt.title(\"3D Ocean +180°\")\n",
    "plt.show()"
   ]
  },
  {
   "cell_type": "code",
   "execution_count": null,
   "id": "498d4304-6215-4b23-a1f4-fdb4d7f399a6",
   "metadata": {},
   "outputs": [],
   "source": [
    "fig = plt.figure()\n",
    "ax = fig.add_subplot(111, projection=\"3d\")\n",
    "ax.plot_surface(x, y, world, cmap=\"terrain\")\n",
    "ax.view_init(azim=360)\n",
    "plt.xlabel(\"X\")\n",
    "plt.ylabel(\"Y\")\n",
    "plt.title(\"3D Terrain +360°\")\n",
    "plt.show()\n",
    "\n",
    "fig = plt.figure()\n",
    "ax = fig.add_subplot(111, projection=\"3d\")\n",
    "ax.plot_surface(x, y, world, cmap=\"ocean\")\n",
    "ax.view_init(azim=360)\n",
    "plt.xlabel(\"X\")\n",
    "plt.ylabel(\"Y\")\n",
    "plt.title(\"3D Ocean +360°\")\n",
    "plt.show()"
   ]
  },
  {
   "cell_type": "markdown",
   "id": "e041dffd-f6ef-4d22-8d12-cac685c4828a",
   "metadata": {},
   "source": [
    "### 8. Audio generation"
   ]
  },
  {
   "cell_type": "markdown",
   "id": "f7222b29-c526-4301-aeea-1a6b107b103e",
   "metadata": {},
   "source": [
    "We can’t talk about music and noise without some explanation."
   ]
  },
  {
   "cell_type": "markdown",
   "id": "69897576-aa3e-48b7-9b2b-bc1513b10c49",
   "metadata": {},
   "source": [
    "What is music? Distribution of mechanical waves in the air or some other setting. For example, when we speak our vocal cords vibrate. These vibrations reach our ears."
   ]
  },
  {
   "cell_type": "markdown",
   "id": "befd82a0-f410-4ded-af2c-402d4ef656f0",
   "metadata": {},
   "source": [
    "We understood what music is, let’s hear how it sounds."
   ]
  },
  {
   "cell_type": "markdown",
   "id": "99bf5d6b-34ae-4e73-9004-d141ffc3178c",
   "metadata": {},
   "source": [
    "We will need 1D graphs, we can transform them into audio."
   ]
  },
  {
   "cell_type": "markdown",
   "id": "2bfcffec-b76a-4339-8cea-5e763d7c94ec",
   "metadata": {},
   "source": [
    "We can turn these noises into actual generated audio samples using 1D graph.\n",
    "\n",
    "First let's have a look at what 'White noise' as an auduo would sound like."
   ]
  },
  {
   "cell_type": "markdown",
   "id": "873489e0-fc23-4e40-a933-0245195265cd",
   "metadata": {},
   "source": [
    "\n",
    "\n",
    "\n"
   ]
  },
  {
   "cell_type": "code",
   "execution_count": null,
   "id": "362c78b1-585e-4749-aa99-21914ae086ae",
   "metadata": {
    "tags": []
   },
   "outputs": [],
   "source": [
    "x = WhiteNoise(500_000)\n",
    "Audio(x, rate=44_100)"
   ]
  },
  {
   "cell_type": "markdown",
   "id": "8a7abc23-1b78-4ed9-a9a7-22137ae589cc",
   "metadata": {},
   "source": [
    "Now let's check out if the Perlin noise is different here as well."
   ]
  },
  {
   "cell_type": "code",
   "execution_count": null,
   "id": "71e4944d-512e-49dd-8d16-28a053cdf744",
   "metadata": {},
   "outputs": [],
   "source": [
    "perlin_noise = perlin_noise_1d(13_000, 22, 500_000)\n",
    "Audio(perlin_noise, rate=44_100)"
   ]
  },
  {
   "cell_type": "markdown",
   "id": "63efa643-6cb8-4556-9789-71e0c0b168f8",
   "metadata": {},
   "source": [
    "The difference is obvious, White noise sounds really like an old tv whereas the Perlin noise sound resembles the bottom of the ocean."
   ]
  },
  {
   "cell_type": "markdown",
   "id": "de7e8361-172e-4727-bc71-48457559b88b",
   "metadata": {},
   "source": [
    "Let’s play a little with the function to see if there would be any difference in both of the sounds."
   ]
  },
  {
   "cell_type": "code",
   "execution_count": null,
   "id": "0db8b277-2b62-4899-8dec-0f677b981061",
   "metadata": {},
   "outputs": [],
   "source": [
    "x = WhiteNoise(50_000)\n",
    "Audio(x, rate=44_100)"
   ]
  },
  {
   "cell_type": "code",
   "execution_count": null,
   "id": "6198b33c-9a0d-445c-b6f6-71839076fb8e",
   "metadata": {},
   "outputs": [],
   "source": [
    "perlin_noise = perlin_noise_1d(1_300, 22, 50_000)\n",
    "Audio(perlin_noise, rate=44_100)"
   ]
  },
  {
   "cell_type": "markdown",
   "id": "43a41427-f78e-4a26-b886-25f1276a55a5",
   "metadata": {},
   "source": [
    "We reduced the length 10 times and they sound absolutely the same."
   ]
  },
  {
   "cell_type": "markdown",
   "id": "7e60eabe-b599-4efc-bae2-1c14120370f6",
   "metadata": {},
   "source": [
    "How would the Perlin noise sound if we give it bigger values of \"Y\"."
   ]
  },
  {
   "cell_type": "code",
   "execution_count": null,
   "id": "c872f101-5285-4539-84ef-c5af5aa4af2b",
   "metadata": {},
   "outputs": [],
   "source": [
    "perlin_noise = perlin_noise_1d(1_300, 2222, 50_000)\n",
    "Audio(perlin_noise, rate=44_100)"
   ]
  },
  {
   "cell_type": "markdown",
   "id": "03c8475b-d86d-4e2b-8c1e-0cadb1e4b2f6",
   "metadata": {},
   "source": [
    "I’m not sure if there’s a difference. Okay let’s try with a much higher \"Y\" value."
   ]
  },
  {
   "cell_type": "code",
   "execution_count": null,
   "id": "faa81431-032e-4fc9-acf0-cd9745dee2e9",
   "metadata": {},
   "outputs": [],
   "source": [
    "perlin_noise = perlin_noise_1d(1_300, 222222222, 50_000)\n",
    "Audio(perlin_noise, rate=44_100)"
   ]
  },
  {
   "cell_type": "markdown",
   "id": "d117b885-f68d-403b-93ab-b9e6933c2f1f",
   "metadata": {},
   "source": [
    "However high values we set, we don’t hear much of a difference. What will happen if I change the \"X\" value?"
   ]
  },
  {
   "cell_type": "code",
   "execution_count": null,
   "id": "13909f3f-3a1b-43cf-8db9-da1f8bf6da19",
   "metadata": {},
   "outputs": [],
   "source": [
    "perlin_noise = perlin_noise_1d(1_300, 222_222_222, 500_000)\n",
    "Audio(perlin_noise, rate=44_100)"
   ]
  },
  {
   "cell_type": "markdown",
   "id": "1722fbd2-a1ba-4517-9e51-b33a00b7e798",
   "metadata": {},
   "source": [
    "Okayyyy. We can hear a big difference. It reminds me of a purring cat."
   ]
  },
  {
   "cell_type": "markdown",
   "id": "76691efa-9f7c-4816-afa0-5e228d52b9e0",
   "metadata": {},
   "source": [
    "We can also create different sounds."
   ]
  },
  {
   "cell_type": "code",
   "execution_count": null,
   "id": "1315a5a8-63a3-443f-b0ac-014d1bf33b55",
   "metadata": {},
   "outputs": [],
   "source": [
    "# Resources - 3.\n",
    "sr = 44100  # sample rate\n",
    "T = 2.0  # seconds\n",
    "t = np.linspace(0, T, int(T * sr), endpoint=False)  # time variable\n",
    "x = 1 * np.sin(2 * np.pi * 440 * t)\n",
    "plt.plot(x)\n",
    "plt.xlabel(\"X\")\n",
    "plt.ylabel(\"Y\")\n",
    "Audio(x, rate=sr)"
   ]
  },
  {
   "cell_type": "code",
   "execution_count": null,
   "id": "10f8b256-84b6-41a0-85d4-812292fc9be3",
   "metadata": {},
   "outputs": [],
   "source": [
    "# Resources - 4.\n",
    "sound = \"Welcome.wav\"\n",
    "flags = winsound.SND_FILENAME\n",
    "for i in range(0, 2):\n",
    "    winsound.PlaySound(sound, flags)"
   ]
  },
  {
   "cell_type": "markdown",
   "id": "d4be3a74-658e-4ae6-ad9e-a9a431d12562",
   "metadata": {},
   "source": [
    "### 9. Resources"
   ]
  },
  {
   "cell_type": "markdown",
   "id": "74802cbd-c936-40a5-bc50-bb91205aa0d5",
   "metadata": {},
   "source": [
    "1. [Perlin noise code for 2D generation](https://stackoverflow.com/questions/42147776/producing-2d-perlin-noise-with-numpy)\n",
    "2. [Perlin noise code for 3D generation](https://jackmckew.dev/3d-terrain-in-python.html)\n",
    "3. [Generating a music](https://musicinformationretrieval.com/ipython_audio.html) \n",
    "4. [Generating a music](https://docs.python.org/3/library/winsound.html) \n",
    "5. [Interpolation](https://www.scratchapixel.com/lessons/mathematics-physics-for-computer-graphics/interpolation/introduction)\n",
    "6. [Perlin noise Wikipedia](https://en.wikipedia.org/wiki/Perlin_noise)\n",
    "7. [Eevee article](https://eev.ee/blog/2016/05/29/perlin-noise/#extending-to-2-d)"
   ]
  },
  {
   "cell_type": "markdown",
   "id": "b7fb1492-c18a-4675-82c9-1154d4b9f3f8",
   "metadata": {},
   "source": [
    "#### Explored by: Tihomir Dimitrov"
   ]
  }
 ],
 "metadata": {
  "kernelspec": {
   "display_name": "Python 3 (ipykernel)",
   "language": "python",
   "name": "python3"
  },
  "language_info": {
   "codemirror_mode": {
    "name": "ipython",
    "version": 3
   },
   "file_extension": ".py",
   "mimetype": "text/x-python",
   "name": "python",
   "nbconvert_exporter": "python",
   "pygments_lexer": "ipython3",
   "version": "3.9.12"
  },
  "toc": {
   "base_numbering": 1,
   "nav_menu": {},
   "number_sections": true,
   "sideBar": true,
   "skip_h1_title": false,
   "title_cell": "Table of Contents",
   "title_sidebar": "Contents",
   "toc_cell": false,
   "toc_position": {},
   "toc_section_display": true,
   "toc_window_display": true
  },
  "toc-autonumbering": false,
  "toc-showtags": false
 },
 "nbformat": 4,
 "nbformat_minor": 5
}
